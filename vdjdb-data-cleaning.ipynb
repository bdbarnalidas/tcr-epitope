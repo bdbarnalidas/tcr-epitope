{
 "cells": [
  {
   "cell_type": "code",
   "execution_count": null,
   "id": "a1b9bc59",
   "metadata": {},
   "outputs": [],
   "source": [
    "#import libraries\n",
    "import pandas as pd\n",
    "import numpy as np\n",
    "#read vdjdb data\n",
    "vdjdb_df = pd.read_table('vdjdb.tsv')\n",
    "#Identify counts of unique values for each gene (TRA = 51973 & TRB = 28962)\n",
    "vdjdb_df['Gene'].value_counts()\n",
    "#Calculate length of vdjdb [80935]\n",
    "len(vdjdb_df)"
   ]
  },
  {
   "cell_type": "code",
   "execution_count": null,
   "id": "3d7bb7e6",
   "metadata": {},
   "outputs": [],
   "source": [
    "#Calculate the no. of unqiue CDR3 sequences for TRA(20545) and TRB(39674) each\n",
    "len(pd.unique(vdjdb_df.loc[vdjdb_df['Gene']=='TRA']['CDR3']))\n",
    "len(pd.unique(vdjdb_df.loc[vdjdb_df['Gene']=='TRB']['CDR3']))\n",
    "#Calculate total number of unique CDR3 sequences (60217)\n",
    "len(pd.unique(vdjdb_df['CDR3']))"
   ]
  },
  {
   "cell_type": "code",
   "execution_count": null,
   "id": "49753827",
   "metadata": {},
   "outputs": [],
   "source": [
    "#Identify common CDR3 amongst TRA and TRB ['CASSSVNEQYF', 'CASSDSRGTEAFF']\n",
    "list(set(vdjdb_df.loc[vdjdb_df['Gene']=='TRB'].CDR3) & set(vdjdb_df.loc[vdjdb_df['Gene']=='TRA'].CDR3))\n",
    "\n",
    "#Extract the Human datapoints into a different dataframe\n",
    "vdjdb_human = vdjdb_df.loc[vdjdb_df['Species']=='HomoSapiens']\n",
    "\n",
    "#Identify counts of unique CDR3 for each gene (TRA = 47107 & TRB = 26804)\n",
    "vdjdb_human['Gene'].value_counts()\n",
    "\n",
    "#calculate the no. of TRA CDR3 sequences and save them to a csv file (19306)\n",
    "len(pd.unique(vdjdb_human.loc[vdjdb_human['Gene']=='TRA']['CDR3']))\n",
    "unqhumanTRA = pd.unique(vdjdb_human.loc[vdjdb_human['Gene']=='TRA']['CDR3'])\n",
    "df = pd.DataFrame(unqhumanTRA)\n",
    "df.to_csv(r'E:\\Microsoft VS Code\\unqhumanTRA.csv',  index=False, header=True)\n",
    "\n",
    "#calculate the no. of TRB CDR3 sequences and save them to a csv file (36693)\n",
    "len(pd.unique(vdjdb_human.loc[vdjdb_human['Gene']=='TRB']['CDR3']))\n",
    "unqhumanTRB = pd.unique(vdjdb_human.loc[vdjdb_human['Gene']=='TRB']['CDR3'])\n",
    "df1 = pd.DataFrame(unqhumanTRB)\n",
    "df1.to_csv(r'E:\\Microsoft VS Code\\unqhumanTRB.csv',  index=False, header=True)\n",
    "\n",
    "#Calculate common CDR3 between human TRA and TRB ['CASSSVNEQYF', 'CASSDSRGTEAFF']\n",
    "list(set(vdjdb_human.loc[vdjdb_human['Gene']=='TRB'].CDR3) & set(vdjdb_human.loc[vdjdb_human['Gene']=='TRA'].CDR3))"
   ]
  },
  {
   "cell_type": "code",
   "execution_count": null,
   "id": "cb3e3e8b",
   "metadata": {},
   "outputs": [],
   "source": [
    "#Extract the mouse datapoints into a different dataframe\n",
    "vdjdb_mouse = vdjdb_df.loc[vdjdb_df['Species']=='MusMusculus']\n",
    "#calculate length of the new dataframe (5042)\n",
    "len(vdjdb_mouse)\n",
    "#Identify counts of unique CDR3 for each gene (TRA = 2884 & TRB = 2158)\n",
    "vdjdb_mouse['Gene'].value_counts()\n",
    "#calculate the no. of TRA CDR3 mouse sequences and save them to a csv file (1257)\n",
    "len(pd.unique(vdjdb_mouse.loc[vdjdb_mouse['Gene']=='TRA']['CDR3']))\n",
    "unqmouseTRA = pd.unique(vdjdb_mouse.loc[vdjdb_mouse['Gene']=='TRA']['CDR3'])\n",
    "df2 = pd.DataFrame(unqmouseTRA)\n",
    "df2.to_csv(r'E:\\Microsoft VS Code\\unqmouseTRA.csv',  index=False, header=True)\n",
    "\n",
    "#calculate the no. of TRB CDR3 mouse sequences and save them to a csv file (1810)\n",
    "len(pd.unique(vdjdb_mouse.loc[vdjdb_mouse['Gene']=='TRB']['CDR3']))\n",
    "unqmouseTRB = pd.unique(vdjdb_mouse.loc[vdjdb_mouse['Gene']=='TRB']['CDR3'])\n",
    "df3 = pd.DataFrame(unqmouseTRB)\n",
    "df3.to_csv(r'E:\\Microsoft VS Code\\unqmouseTRB.csv',  index=False, header=True)\n",
    "\n",
    "#calculate unique CDR3 sequences in mouse (3067)\n",
    "len(pd.unique(vdjdb_mouse['CDR3']))"
   ]
  },
  {
   "cell_type": "code",
   "execution_count": null,
   "id": "fdef90f5",
   "metadata": {},
   "outputs": [],
   "source": [
    "#Extract the monkey datapoints into a different dataframe\n",
    "vdjdb_mon = vdjdb_df.loc[vdjdb_df['Species']=='MacacaMulatta']\n",
    "#calculate length of the new dataframe (1982)\n",
    "len(vdjdb_mon)\n",
    "#Identify counts of unique CDR3 for each gene (TRA = 0 & TRB = 1982)\n",
    "vdjdb_mon['Gene'].value_counts()\n",
    "\n",
    "#calculate the no. of TRA CDR3 monkey sequences and save them to a csv file (0)\n",
    "len(pd.unique(vdjdb_mon.loc[vdjdb_mon['Gene']=='TRA']['CDR3']))\n",
    "unqmonTRA = pd.unique(vdjdb_mon.loc[vdjdb_mon['Gene']=='TRA']['CDR3'])\n",
    "df4 = pd.DataFrame(unqmonTRA)\n",
    "df4.to_csv(r'E:\\Microsoft VS Code\\unqmonTRA.csv',  index=False, header=True)\n",
    "\n",
    "#calculate the no. of TRB CDR3 monkey sequences and save them to a csv file (1194)\n",
    "len(pd.unique(vdjdb_mon.loc[vdjdb_mon['Gene']=='TRB']['CDR3']))\n",
    "unqmonTRB = pd.unique(vdjdb_mon.loc[vdjdb_mon['Gene']=='TRB']['CDR3'])\n",
    "df5 = pd.DataFrame(unqmonTRB)\n",
    "df5.to_csv(r'E:\\Microsoft VS Code\\unqmonTRB.csv',  index=False, header=True)\n",
    "\n",
    "#calculate unique CDR3 sequences in monkey (1194)\n",
    "len(pd.unique(vdjdb_mon['CDR3']))"
   ]
  },
  {
   "cell_type": "code",
   "execution_count": null,
   "id": "e55eb76d",
   "metadata": {},
   "outputs": [],
   "source": [
    "#identify common CDR3 sequences between human, mouse and moneky (0)\n",
    "list(set(vdjdb_human.CDR3) & set(vdjdb_mouse.CDR3) & set(vdjdb_mon.CDR3))\n",
    "\n",
    "#identify common CDR3 sequences between human and mouse, save it to a file (41) \n",
    "#no other combination has common CDR3 sequences\n",
    "len(list(set(vdjdb_human.CDR3) & set(vdjdb_mouse.CDR3)))\n",
    "df6 = list(set(vdjdb_human.CDR3) & set(vdjdb_mouse.CDR3))\n",
    "df6 = pd.DataFrame(df6)\n",
    "df6.to_csv(r'E:\\Microsoft VS Code\\common_CDR3_human_mouse.csv',  index=False, header=True)\n"
   ]
  },
  {
   "cell_type": "code",
   "execution_count": null,
   "id": "d0ac2dbc",
   "metadata": {},
   "outputs": [],
   "source": [
    "#identify unqiue epitopes in the complete datasets (1139)\n",
    "len(pd.unique(vdjdb_df['Epitope']))\n",
    "#identify unqiue epitopes in the human df and same them to a csv file(1077)\n",
    "len(pd.unique(vdjdb_human['Epitope']))\n",
    "unqhumanepi = pd.unique(vdjdb_human['Epitope'])\n",
    "df7 = pd.DataFrame(unqhumanepi)\n",
    "df7.to_csv(r'E:\\Microsoft VS Code\\unqhumanepi.csv',  index=False, header=True)\n",
    "\n",
    "# identify unqiue epitopes in the mouse df and same them to a csv file (62)\n",
    "len(pd.unique(vdjdb_mouse['Epitope']))\n",
    "unqmouseepi = pd.unique(vdjdb_mouse['Epitope'])\n",
    "df8 = pd.DataFrame(unqmouseepi)\n",
    "df8.to_csv(r'E:\\Microsoft VS Code\\unqmouseepi.csv',  index=False, header=True)\n",
    "\n",
    "# identify unqiue epitopes in the monkey df and same them to a csv file (3)\n",
    "len(pd.unique(vdjdb_mon['Epitope']))\n",
    "unqmonepi = pd.unique(vdjdb_mon['Epitope'])\n",
    "df9 = pd.DataFrame(unqmonepi)\n",
    "df9.to_csv(r'E:\\Microsoft VS Code\\unqmonepi.csv',  index=False, header=True)\n",
    "\n",
    "#identify common epitopes between human and mouse ['VVGAVGVGK', 'VVVGAVGVGK', 'VVVGADGVGK']\n",
    "#no other combination has common epitopes\n",
    "list(set(vdjdb_human.Epitope) & set(vdjdb_mouse.Epitope))\n",
    "\n"
   ]
  },
  {
   "cell_type": "code",
   "execution_count": null,
   "id": "1059560b",
   "metadata": {},
   "outputs": [],
   "source": [
    "#Identify number of unique CDR3-epitope pairs in all 4 databases (all=65639, human=61173 , monkey=1245 , mouse=3221)\n",
    "vdjdb_df[['CDR3', 'Epitope']].value_counts().reset_index(name='count')\n",
    "vdjdb_human[['CDR3', 'Epitope']].value_counts().reset_index(name='count')\n",
    "vdjdb_mon[['CDR3', 'Epitope']].value_counts().reset_index(name='count')\n",
    "vdjdb_mouse[['CDR3', 'Epitope']].value_counts().reset_index(name='count')"
   ]
  },
  {
   "cell_type": "code",
   "execution_count": null,
   "id": "ff7cbc72",
   "metadata": {},
   "outputs": [],
   "source": [
    "#Calculate the no. of unique CDR3-epitope pairs and same it to a variable (66435)\n",
    "total_unique_2 = vdjdb_df[['CDR3', 'Epitope']].value_counts().reset_index(name='count')\n",
    "#calculate the no. of CDR-epitope pairs having unque scores (65639)\n",
    "total_unique_3 = vdjdb_df[['CDR3', 'Epitope', 'Score']].value_counts().reset_index(name='count')\n",
    "#Calculate the no. of pairs having scores 0(59442),1(4443),2(1471),3(1079)\n",
    "total_unique_3['Score'].value_counts()\n",
    "#Create a column representing TCR-epitope pair\n",
    "vdjdb_df['TCRepitope'] = vdjdb_df['CDR3']+' - '+ vdjdb_df['Epitope']\n",
    "#divide the complete dataset on the basis of scores\n",
    "vdjdb_sc0 = vdjdb_df.loc[vdjdb_df['Score']== 0 ]\n",
    "vdjdb_sc1 = vdjdb_df.loc[vdjdb_df['Score']== 1 ]\n",
    "vdjdb_sc2 = vdjdb_df.loc[vdjdb_df['Score']== 2 ]\n",
    "vdjdb_sc3 = vdjdb_df.loc[vdjdb_df['Score']== 3 ]\n"
   ]
  },
  {
   "cell_type": "code",
   "execution_count": null,
   "id": "38c337be",
   "metadata": {},
   "outputs": [],
   "source": [
    "#Identify pairs having more than 1 score\n",
    "len(list(set(vdjdb_sc0.TCRepitope) & set(vdjdb_sc1.TCRepitope))) #570\n",
    "len(list(set(vdjdb_sc0.TCRepitope) & set(vdjdb_sc2.TCRepitope))) #102\n",
    "len(list(set(vdjdb_sc0.TCRepitope) & set(vdjdb_sc3.TCRepitope))) #60\n",
    "len(list(set(vdjdb_sc1.TCRepitope) & set(vdjdb_sc2.TCRepitope))) #42\n",
    "len(list(set(vdjdb_sc2.TCRepitope) & set(vdjdb_sc3.TCRepitope))) #38\n",
    "len(list(set(vdjdb_sc1.TCRepitope) & set(vdjdb_sc3.TCRepitope))) #64\n"
   ]
  }
 ],
 "metadata": {
  "kernelspec": {
   "display_name": "Python 3 (ipykernel)",
   "language": "python",
   "name": "python3"
  },
  "language_info": {
   "codemirror_mode": {
    "name": "ipython",
    "version": 3
   },
   "file_extension": ".py",
   "mimetype": "text/x-python",
   "name": "python",
   "nbconvert_exporter": "python",
   "pygments_lexer": "ipython3",
   "version": "3.9.7"
  }
 },
 "nbformat": 4,
 "nbformat_minor": 5
}
