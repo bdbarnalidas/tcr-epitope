{
 "cells": [
  {
   "cell_type": "code",
   "execution_count": null,
   "id": "15df338f",
   "metadata": {},
   "outputs": [],
   "source": [
    "#import libraries and IEDB dataset\n",
    "import pandas as pd\n",
    "import numpy as np\n",
    "IEDB_df = pd.read_csv('IEDB_data_positive.csv')\n",
    "#Select important columns from the IEDB dataset\n",
    "IEDB_df_subset = IEDB_df[['Receptor - Type','Epitope - Name','Chain 1 - Type','Chain 1 - CDR3 Curated',\t'Chain 1 - CDR3 Calculated', 'Chain 2 - Type', 'Chain 2 - CDR3 Curated', 'Chain 2 - CDR3 Calculated' ]]"
   ]
  },
  {
   "cell_type": "code",
   "execution_count": null,
   "id": "0114b90e",
   "metadata": {},
   "outputs": [],
   "source": [
    "#Check the receptor type (alphabeta(217440), gammadelta(38), TscFv(1))\n",
    "IEDB_df_subset['Receptor - Type'].value_counts() \n"
   ]
  },
  {
   "cell_type": "code",
   "execution_count": null,
   "id": "a412966a",
   "metadata": {},
   "outputs": [],
   "source": [
    "#Identify types of Chain 1 (alpha(60657), gamma(26))\n",
    "IEDB_df_subset['Chain 1 - Type'].value_counts()\n",
    "#Identify number of NAN values (156797)\n",
    "IEDB_df_subset['Chain 1 - Type'].isna().sum()\n",
    "#Identify types of Chain 2 (beta(187737), delta(38))\n",
    "IEDB_df_subset['Chain 2 - Type'].value_counts()\n",
    "#Identify number of NAN values (29705)\n",
    "IEDB_df_subset['Chain 2 - Type'].isna().sum()"
   ]
  },
  {
   "cell_type": "code",
   "execution_count": null,
   "id": "dd4a6a6b",
   "metadata": {},
   "outputs": [],
   "source": [
    "#Extract alpha chain 1, drop NA values, select necessary columns and save data to a csv file\n",
    "IEDB_alpha = IEDB_df_subset.loc[IEDB_df_subset['Chain 1 - Type']=='alpha']\n",
    "IEDB_alpha = IEDB_alpha.dropna(subset=['Chain 1 - CDR3 Curated'])\n",
    "IEDB_alpha_pairs = IEDB_alpha[['Chain 1 - CDR3 Curated','Epitope - Name']]\n",
    "IEDB_alpha_pairs.isna().sum().sum()\n",
    "IEDB_alpha_pairs.to_csv(r'E:\\Microsoft VS Code\\IEDB_alpha_pairs.csv',  index=False, header=True)"
   ]
  },
  {
   "cell_type": "code",
   "execution_count": null,
   "id": "c22f4fc8",
   "metadata": {},
   "outputs": [],
   "source": [
    "#Extract beta chain 1, drop NA values, select necessary columns and save data to a csv file\n",
    "IEDB_beta = IEDB_df_subset.loc[IEDB_df_subset['Chain 2 - Type']=='beta']\n",
    "IEDB_beta = IEDB_beta.dropna(subset=['Chain 2 - CDR3 Curated'])\n",
    "IEDB_beta_pairs = IEDB_beta[['Chain 2 - CDR3 Curated','Epitope - Name']]\n",
    "IEDB_beta_pairs.isna().sum().sum()\n",
    "IEDB_beta_pairs.to_csv(r'E:\\Microsoft VS Code\\IEDB_beta_pairs.csv',  index=False, header=True)"
   ]
  }
 ],
 "metadata": {
  "kernelspec": {
   "display_name": "Python 3 (ipykernel)",
   "language": "python",
   "name": "python3"
  },
  "language_info": {
   "codemirror_mode": {
    "name": "ipython",
    "version": 3
   },
   "file_extension": ".py",
   "mimetype": "text/x-python",
   "name": "python",
   "nbconvert_exporter": "python",
   "pygments_lexer": "ipython3",
   "version": "3.9.7"
  }
 },
 "nbformat": 4,
 "nbformat_minor": 5
}
