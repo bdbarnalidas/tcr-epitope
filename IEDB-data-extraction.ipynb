{
 "cells": [
  {
   "cell_type": "code",
   "execution_count": null,
   "id": "15df338f",
   "metadata": {},
   "outputs": [],
   "source": [
    "#import libraries and IEDB dataset\n",
    "import pandas as pd\n",
    "import numpy as np\n",
    "IEDB_df = pd.read_csv('IEDB_data_positive.csv')\n",
    "#Select important columns from the IEDB dataset\n",
    "IEDB_df_subset = IEDB_df[['Receptor - Type','Epitope - Name','Chain 1 - Type','Chain 1 - CDR3 Curated',\t'Chain 1 - CDR3 Calculated', 'Chain 2 - Type', 'Chain 2 - CDR3 Curated', 'Chain 2 - CDR3 Calculated' ]]"
   ]
  },
  {
   "cell_type": "code",
   "execution_count": null,
   "id": "cf4a61af",
   "metadata": {},
   "outputs": [],
   "source": [
    "#Drop those rows which contain information regarding gamma and delta chains\n",
    "IEDB_df_subset.drop(IEDB_df_subset[IEDB_df_subset['Chain 1 - Type'] == 'gamma'].index, inplace = True)\n",
    "IEDB_df_subset.drop(IEDB_df_subset[IEDB_df_subset['Chain 2 - Type'] == 'delta'].index, inplace = True)"
   ]
  },
  {
   "cell_type": "code",
   "execution_count": null,
   "id": "95aa595d",
   "metadata": {},
   "outputs": [],
   "source": [
    "#Extract those rows which contain information about 'Epitope - Name', 'Chain 1 - CDR3 Curated', and 'Chain 2 - CDR3 Curated'\n",
    "IEDB_alpha_beta_pairs = IEDB_df_subset.dropna(subset=['Epitope - Name', 'Chain 1 - CDR3 Curated', 'Chain 2 - CDR3 Curated'])\n",
    "#check for any nan values\n",
    "IEDB_alpha_beta_pairs.isna().sum()\n",
    "#extract necessarry columns\n",
    "IEDB_alpha_beta_pairs_f = IEDB_alpha_beta_pairs[['Epitope - Name', 'Chain 1 - CDR3 Curated', 'Chain 2 - CDR3 Curated']]\n",
    "#save it to a csv file\n",
    "IEDB_alpha_beta_pairs_f.to_csv(r'E:\\Microsoft VS Code\\IEDB_alpha_beta_pairs_f.csv',  index=False, header=True)"
   ]
  },
  {
   "cell_type": "code",
   "execution_count": null,
   "id": "dd48d367",
   "metadata": {},
   "outputs": [],
   "source": [
    "#Extract those rows which contain information about  'Epitope - Name' and 'Chain 1 - CDR3 Curated' only\n",
    "IEDB_alpha_pairs = IEDB_df_subset.dropna(subset=['Chain 1 - CDR3 Curated', 'Epitope - Name'])\n",
    "len(IEDB_alpha_pairs)\n",
    "#keep only those columns which have na values for 'Chain 2 - CDR3 Curated'\n",
    "IEDB_alpha_pairs_f = IEDB_alpha_pairs[IEDB_alpha_pairs['Chain 2 - CDR3 Curated'].isnull()]\n",
    "len(IEDB_alpha_pairs_f)\n",
    "#check for na values\n",
    "IEDB_alpha_pairs_f.isna().sum()\n",
    "#save to a csv file\n",
    "IEDB_alpha_pairs_f.to_csv(r'E:\\Microsoft VS Code\\IEDB_alpha_pairs_f.csv',  index=False, header=True)"
   ]
  },
  {
   "cell_type": "code",
   "execution_count": null,
   "id": "fa6862e1",
   "metadata": {},
   "outputs": [],
   "source": [
    "#Extract those rows which contain information about  'Epitope - Name' and 'Chain 2 - CDR3 Curated' only\n",
    "IEDB_beta_pairs = IEDB_df_subset.dropna(subset=['Chain 2 - CDR3 Curated', 'Epitope - Name'])\n",
    "len(IEDB_beta_pairs)\n",
    "#Extract those rows which contain information about  'Epitope - Name' and 'Chain 1 - CDR3 Curated' only\n",
    "IEDB_beta_pairs_f = IEDB_beta_pairs[IEDB_beta_pairs['Chain 1 - CDR3 Curated'].isnull()]\n",
    "len(IEDB_beta_pairs_f)\n",
    "#check for na values\n",
    "IEDB_beta_pairs_f.isna().sum()\n",
    "#save to a csv file\n",
    "IEDB_beta_pairs_f.to_csv(r'E:\\Microsoft VS Code\\IEDB_beta_pairs_f.csv',  index=False, header=True)"
   ]
  },
  {
   "cell_type": "code",
   "execution_count": null,
   "id": "0114b90e",
   "metadata": {},
   "outputs": [],
   "source": [
    "#Check the receptor type (alphabeta(217440), gammadelta(38), TscFv(1))\n",
    "IEDB_df_subset['Receptor - Type'].value_counts() \n"
   ]
  },
  {
   "cell_type": "code",
   "execution_count": null,
   "id": "a412966a",
   "metadata": {},
   "outputs": [],
   "source": [
    "#Identify types of Chain 1 (alpha(60657), gamma(26))\n",
    "IEDB_df_subset['Chain 1 - Type'].value_counts()\n",
    "#Identify number of NAN values (156797)\n",
    "IEDB_df_subset['Chain 1 - Type'].isna().sum()\n",
    "#Identify types of Chain 2 (beta(187737), delta(38))\n",
    "IEDB_df_subset['Chain 2 - Type'].value_counts()\n",
    "#Identify number of NAN values (29705)\n",
    "IEDB_df_subset['Chain 2 - Type'].isna().sum()"
   ]
  }
 ],
 "metadata": {
  "kernelspec": {
   "display_name": "Python 3 (ipykernel)",
   "language": "python",
   "name": "python3"
  },
  "language_info": {
   "codemirror_mode": {
    "name": "ipython",
    "version": 3
   },
   "file_extension": ".py",
   "mimetype": "text/x-python",
   "name": "python",
   "nbconvert_exporter": "python",
   "pygments_lexer": "ipython3",
   "version": "3.9.7"
  }
 },
 "nbformat": 4,
 "nbformat_minor": 5
}
