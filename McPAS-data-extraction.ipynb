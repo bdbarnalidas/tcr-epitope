{
 "cells": [
  {
   "cell_type": "code",
   "execution_count": null,
   "id": "85638fbb",
   "metadata": {},
   "outputs": [],
   "source": [
    "#import libraries and McPAS dataset\n",
    "import pandas as pd\n",
    "import numpy as np\n",
    "McPAS_df = open('McPAS-TCR.csv', encoding='windows-1252')\n",
    "McPAS_df = pd.read_csv(McPAS_df)\n",
    "McPAS_df"
   ]
  },
  {
   "cell_type": "code",
   "execution_count": null,
   "id": "d954aeb0",
   "metadata": {},
   "outputs": [],
   "source": [
    "#extract data for samples containing only CDR3.alpha.aa and Epitope.peptide (1152)\n",
    "McPAS_alpha_pairs = McPAS_df[McPAS_df['CDR3.beta.aa'].isnull()]\n",
    "#len(McPAS_alpha_pairs) 2371\n",
    "McPAS_alpha_pairs_f = McPAS_alpha_pairs.dropna(subset=['CDR3.alpha.aa', 'Epitope.peptide'])\n",
    "len(McPAS_alpha_pairs_f) #1152\n",
    "\n",
    "#extract data for samples containing only CDR3.beta.aa and Epitope.peptide (10116)\n",
    "McPAS_beta_pairs = McPAS_df[McPAS_df['CDR3.alpha.aa'].isnull()]\n",
    "#len(McPAS_beta_pairs) 25276\n",
    "McPAS_beta_pairs_f = McPAS_beta_pairs.dropna(subset=['CDR3.beta.aa', 'Epitope.peptide'])\n",
    "len(McPAS_beta_pairs_f) #10116\n",
    "\n",
    "#extract necesarry information and save to a csv file\n",
    "McPAS_alpha_pairs_f = McPAS_alpha_pairs_f[['CDR3.alpha.aa', 'Epitope.peptide','Species','MHC']]\n",
    "McPAS_beta_pairs_f = McPAS_beta_pairs_f[['CDR3.beta.aa', 'Epitope.peptide','Species','MHC']]\n",
    "McPAS_alpha_pairs_f.to_csv(r'E:\\Microsoft VS Code\\McPAS_alpha_pairs.csv',  index=False, header=True)\n",
    "McPAS_beta_pairs_f.to_csv(r'E:\\Microsoft VS Code\\McPAS_beta_pairs.csv',  index=False, header=True)\n",
    "\n",
    "##extract data for samples containing CDR3.alpha.aa, CDR3.beta.aa and Epitope.peptide and save to a file (5098)\n",
    "McPAS_df_3 = McPAS_df.dropna(subset=['CDR3.beta.aa', 'CDR3.alpha.aa', 'Epitope.peptide'])\n",
    "McPAS_df_3 = McPAS_df_3[['CDR3.beta.aa', 'CDR3.alpha.aa', 'Epitope.peptide','Species','MHC']]\n",
    "McPAS_df_3.to_csv(r'E:\\Microsoft VS Code\\McPAS_alpha_beta_epitope.csv',  index=False, header=True)\n",
    "len(McPAS_df_3) 5098"
   ]
  },
  {
   "cell_type": "code",
   "execution_count": null,
   "id": "53c8193d",
   "metadata": {},
   "outputs": [],
   "source": [
    "#Calculate samples missing both CDR3 Alpha and Beta sequences (401)\n",
    "McPAS_noAlpha = McPAS_df[McPAS_df['CDR3.alpha.aa'].isnull()]\n",
    "McPAS_noAlphaBeta = McPAS_noAlpha[McPAS_noAlpha['CDR3.beta.aa'].isnull()]\n",
    "len(McPAS_noAlphaBeta)\n",
    "\n",
    "#Calculate samples missing both CDR3 Alpha and Beta sequences but containing epitope peptide sequences (389)\n",
    "McPAS_noAlphaBeta_epitope = McPAS_noAlphaBeta.dropna(subset=['Epitope.peptide'])\n",
    "len(McPAS_noAlphaBeta_epitope)"
   ]
  }
 ],
 "metadata": {
  "kernelspec": {
   "display_name": "Python 3 (ipykernel)",
   "language": "python",
   "name": "python3"
  },
  "language_info": {
   "codemirror_mode": {
    "name": "ipython",
    "version": 3
   },
   "file_extension": ".py",
   "mimetype": "text/x-python",
   "name": "python",
   "nbconvert_exporter": "python",
   "pygments_lexer": "ipython3",
   "version": "3.9.7"
  }
 },
 "nbformat": 4,
 "nbformat_minor": 5
}
