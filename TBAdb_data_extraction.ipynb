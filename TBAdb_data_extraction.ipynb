{
 "cells": [
  {
   "cell_type": "code",
   "execution_count": null,
   "id": "74c42bef",
   "metadata": {},
   "outputs": [],
   "source": [
    "#import libraries and dataset\n",
    "import pandas as pd\n",
    "import numpy as np\n",
    "TBAdb_df = open('TBAdb-ab.csv', encoding='windows-1252')\n",
    "TBAdb_df = pd.read_csv(TBAdb_df)\n",
    "TBAdb_df = TBAdb_df.replace(\"-\", np.nan)"
   ]
  },
  {
   "cell_type": "code",
   "execution_count": null,
   "id": "43ce5913",
   "metadata": {},
   "outputs": [],
   "source": [
    "#select samples containing information about epitope, CDR3 alpha and beta\n",
    "TBAdb_alpha_beta_pairs = TBAdb_df.dropna(subset=['Antigen.sequence', 'CDR3.alpha.aa', 'CDR3.beta.aa'])\n",
    "#extract necesarry columns\n",
    "TBAdb_alpha_beta_pairs_f = TBAdb_alpha_beta_pairs[['Antigen.sequence', 'CDR3.alpha.aa', 'CDR3.beta.aa','Grade']]\n",
    "#save to a csv file\n",
    "TBAdb_alpha_beta_pairs_f.to_csv(r'E:\\Microsoft VS Code\\TBAdb_alpha_beta_pairs_f.csv',  index=False, header=True)\n",
    "len(TBAdb_alpha_beta_pairs_f)"
   ]
  },
  {
   "cell_type": "code",
   "execution_count": null,
   "id": "93de81e2",
   "metadata": {},
   "outputs": [],
   "source": [
    "#extract sample containing information only about epitope and CDR3 alpha\n",
    "TRAdb_alpha_pairs = TBAdb_df.dropna(subset=['Antigen.sequence', 'CDR3.alpha.aa'])\n",
    "len(TRAdb_alpha_pairs)\n",
    "TRAdb_alpha_pairs_f = TRAdb_alpha_pairs[TRAdb_alpha_pairs['CDR3.beta.aa'].isnull()]\n",
    "len(TRAdb_alpha_pairs_f)\n",
    "#extract necesarry columns and save to a csv file\n",
    "TRAdb_alpha_pairs_f = TRAdb_alpha_pairs_f[['Antigen.sequence', 'CDR3.alpha.aa', 'CDR3.beta.aa','Grade']]\n",
    "TRAdb_alpha_pairs_f.to_csv(r'E:\\Microsoft VS Code\\TRAdb_alpha_pairs_f.csv',  index=False, header=True)"
   ]
  },
  {
   "cell_type": "code",
   "execution_count": null,
   "id": "bd82fe4f",
   "metadata": {},
   "outputs": [],
   "source": [
    "#extract sample containing information only about epitope and CDR3 beta\n",
    "TRAdb_beta_pairs = TBAdb_df.dropna(subset=['Antigen.sequence', 'CDR3.beta.aa'])\n",
    "len(TRAdb_beta_pairs)\n",
    "TRAdb_beta_pairs_f = TRAdb_beta_pairs[TRAdb_beta_pairs['CDR3.alpha.aa'].isnull()]\n",
    "len(TRAdb_beta_pairs_f)\n",
    "#extract necesarry columns and save to a csv file\n",
    "TRAdb_beta_pairs_f = TRAdb_beta_pairs_f[['Antigen.sequence', 'CDR3.beta.aa','Grade']]\n",
    "TRAdb_beta_pairs_f.to_csv(r'E:\\Microsoft VS Code\\TRAdb_beta_pairs_f.csv',  index=False, header=True)"
   ]
  }
 ],
 "metadata": {
  "kernelspec": {
   "display_name": "Python 3 (ipykernel)",
   "language": "python",
   "name": "python3"
  },
  "language_info": {
   "codemirror_mode": {
    "name": "ipython",
    "version": 3
   },
   "file_extension": ".py",
   "mimetype": "text/x-python",
   "name": "python",
   "nbconvert_exporter": "python",
   "pygments_lexer": "ipython3",
   "version": "3.9.7"
  }
 },
 "nbformat": 4,
 "nbformat_minor": 5
}
